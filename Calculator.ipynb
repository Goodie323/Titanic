{
 "cells": [
  {
   "cell_type": "code",
   "execution_count": 1,
   "id": "67cf4fcc-d3a8-4465-925f-02c5ee47a99a",
   "metadata": {},
   "outputs": [],
   "source": [
    "import math "
   ]
  },
  {
   "cell_type": "code",
   "execution_count": 3,
   "id": "c227053a-058c-4349-943c-89e36e8356cf",
   "metadata": {},
   "outputs": [
    {
     "name": "stdin",
     "output_type": "stream",
     "text": [
      "Pick an Option (1:Add, 2:Subtraction, 3:Division, 4:Multiplication):  1\n"
     ]
    },
    {
     "name": "stdout",
     "output_type": "stream",
     "text": [
      "You selected addition (+)\n"
     ]
    },
    {
     "name": "stdin",
     "output_type": "stream",
     "text": [
      "Enter the first number:  5\n",
      "Enter the second number:  1\n"
     ]
    },
    {
     "name": "stdout",
     "output_type": "stream",
     "text": [
      "Result: 6\n"
     ]
    }
   ],
   "source": [
    "def scientific_calculator():\n",
    "    def addition(num1, num2=1):\n",
    "        return num1 + num2\n",
    "    \n",
    "    def subtraction(num1, num2=2):\n",
    "        return num1 - num2\n",
    "\n",
    "    def division(num1, num2=3):\n",
    "        return num1 / num2\n",
    "\n",
    "    def multiplication(num1, num2=4):\n",
    "        return num1 * num2\n",
    "\n",
    "    option = input(\"Pick an Option (1:Add, 2:Subtraction, 3:Division, 4:Multiplication): \")\n",
    "\n",
    "    if option == '1':\n",
    "        print(\"You selected addition (+)\")\n",
    "        num1 = int(input(\"Enter the first number: \"))\n",
    "        num2 = int(input(\"Enter the second number: \"))\n",
    "        result = addition(num1, num2)\n",
    "        print(\"Result:\", result)\n",
    "    elif option == '2':\n",
    "        print(\"You selected subtraction (-)\")\n",
    "        num1 = int(input(\"Enter the first number: \"))\n",
    "        num2 = int(input(\"Enter the second number: \"))\n",
    "        result = subtraction(num1, num2)\n",
    "        print(\"Result:\", result)\n",
    "    elif option == '3':\n",
    "        print(\"You selected division (/)\")\n",
    "        num1 = int(input(\"Enter the first number: \"))\n",
    "        num2 = int(input(\"Enter the second number: \"))\n",
    "        result = division(num1, num2)\n",
    "        print(\"Result:\", result)\n",
    "    elif option == '4':\n",
    "        print(\"You selected multiplication (*)\")\n",
    "        num1 = int(input(\"Enter the first number: \"))\n",
    "        num2 = int(input(\"Enter the second number: \"))\n",
    "        result = multiplication(num1, num2)\n",
    "        print(\"Result:\", result)\n",
    "    else:\n",
    "        print(\"Invalid option selected\")\n",
    "\n",
    "# Calling the function to start the calculator\n",
    "scientific_calculator()\n"
   ]
  },
  {
   "cell_type": "code",
   "execution_count": 55,
   "id": "e8458cfb-12ac-49a0-ada7-a3adccd2d19b",
   "metadata": {},
   "outputs": [
    {
     "data": {
      "text/plain": [
       "5"
      ]
     },
     "execution_count": 55,
     "metadata": {},
     "output_type": "execute_result"
    }
   ],
   "source": [
    "2 + 3"
   ]
  },
  {
   "cell_type": "code",
   "execution_count": null,
   "id": "52f0590c-689e-4b06-be48-c38e39a13005",
   "metadata": {},
   "outputs": [],
   "source": []
  }
 ],
 "metadata": {
  "kernelspec": {
   "display_name": "Python 3 (ipykernel)",
   "language": "python",
   "name": "python3"
  },
  "language_info": {
   "codemirror_mode": {
    "name": "ipython",
    "version": 3
   },
   "file_extension": ".py",
   "mimetype": "text/x-python",
   "name": "python",
   "nbconvert_exporter": "python",
   "pygments_lexer": "ipython3",
   "version": "3.11.7"
  }
 },
 "nbformat": 4,
 "nbformat_minor": 5
}
